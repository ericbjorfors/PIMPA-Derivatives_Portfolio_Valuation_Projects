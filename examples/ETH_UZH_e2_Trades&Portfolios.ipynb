{
 "cells": [
  {
   "cell_type": "code",
   "execution_count": 1,
   "id": "8ce94f41-251b-4f45-bbb8-d2216f2b6def",
   "metadata": {},
   "outputs": [],
   "source": [
    "import sys\n",
    "sys.path.append('..')\n",
    "\n",
    "import numpy as np\n",
    "import pandas as pd\n",
    "from pimpa.trade_models.portfolio import Portfolio\n",
    "from pimpa.evaluators.ccr_valuation_session import CCR_Valuation_Session\n",
    "from data.configuration.global_parameters import global_parameters\n",
    "from pimpa.utils.calendar_utils import transform_dates_to_time_differences\n",
    "\n",
    "from pimpa.pricing_models.interest_rate_swap_pricer import InterestRateSwapPricer\n",
    "from pimpa.pricing_models.equity_european_option_pricer import EquityEuropeanOptionPricer\n",
    "from pimpa.trade_models.interest_rate_swap import InterestRateSwap\n",
    "from pimpa.trade_models.equity_european_option import EquityEuropeanOption\n",
    "from pimpa.market_data_objects.market_data_builder import MarketDataBuilder\n",
    "from pimpa.utils.calendar_utils import generate_simulation_dates_schedule\n",
    "\n",
    "from data.configuration.global_parameters import global_parameters, calibration_parameters\n"
   ]
  },
  {
   "cell_type": "markdown",
   "id": "b1f2e06e-fc11-4a09-86fe-ec1e2fbe8d59",
   "metadata": {
    "tags": []
   },
   "source": [
    "# Construction of a portfolio based on sourced data"
   ]
  },
  {
   "cell_type": "markdown",
   "id": "28a21b5f-54b9-4af5-b7c3-1427a63497f4",
   "metadata": {},
   "source": [
    "1) Create a portfolio object\n",
    "2) Check the portfolio object attributes & methods \n",
    "3) Check the data that has been sourced (master_ledger, desks, counterparty)"
   ]
  },
  {
   "cell_type": "code",
   "execution_count": 2,
   "id": "99c212c0-7424-4bdd-82a1-4386f6a60580",
   "metadata": {},
   "outputs": [
    {
     "name": "stdout",
     "output_type": "stream",
     "text": [
      "-----------------------------\n",
      "BEFORE LOAD:\n",
      "Portfolio with netting_agreement_id: 23\n",
      "NOT AVAILABLE\n",
      "-----------------------------\n",
      "AFTER LOAD:\n",
      "Portfolio with netting_agreement_id: 23\n",
      "- including trade_IDs: [1234, 1235, 1236]\n",
      "- including netting_sets: ['23_MAIN', '23_SINGLETON_1']\n",
      "- with underlyings: {'USD_LIBOR_3M_CURVE', 'USD_ZERO_YIELD_CURVE'}\n",
      "- with 65 valuation points.\n",
      "AVAILABLE\n",
      "-----------------------------\n",
      "{'23_MAIN': [1234, 1235], '23_SINGLETON_1': [1236]}\n",
      "-----------------------------\n"
     ]
    }
   ],
   "source": [
    "netting_agreement_id = 23\n",
    "test_portfolio_1 = Portfolio(netting_agreement_id)\n",
    "print('-----------------------------')\n",
    "print('BEFORE LOAD:')\n",
    "print(test_portfolio_1)\n",
    "print('-----------------------------')\n",
    "test_portfolio_1.load(global_parameters)\n",
    "print('AFTER LOAD:')\n",
    "print(test_portfolio_1)\n",
    "print('-----------------------------')\n",
    "print(test_portfolio_1.netting_sets)\n",
    "print('-----------------------------')"
   ]
  },
  {
   "cell_type": "markdown",
   "id": "9a3d1982-b25e-48c9-af5d-7d3d68fa5dce",
   "metadata": {},
   "source": [
    "1) Check portfolio trades\n",
    "2) Check trade object and methods"
   ]
  },
  {
   "cell_type": "code",
   "execution_count": 3,
   "id": "e7d942c2-1a61-4cb4-8272-bff1a362cfab",
   "metadata": {},
   "outputs": [
    {
     "name": "stdout",
     "output_type": "stream",
     "text": [
      "{1234: <pimpa.trade_models.interest_rate_swap.InterestRateSwap object at 0x7fa1a9669ca0>, 1235: <pimpa.trade_models.interest_rate_swap.InterestRateSwap object at 0x7fa1a9669e80>, 1236: <pimpa.trade_models.interest_rate_swap.InterestRateSwap object at 0x7fa1d8739190>}\n",
      "-----------------------------\n",
      "Trade with trade_id: 1234\n",
      "- trade type: IRS\n",
      "- asset class: IR\n",
      "- trade currency: USD\n",
      "- trade underlyings: ['USD_LIBOR_3M_CURVE', 'USD_ZERO_YIELD_CURVE']\n",
      "- trade attributes keys: ['notional', 'currency', 'floating_rate', 'K', 'payer/receiver', 'first_fixing_date', 'last_fixing_date', 'first_payment_date', 'last_payment_date', 'payments_frequency', 'maturity', 'fixings_schedule', 'payments_schedule'])\n",
      "- with 41 valuation points.\n",
      "AVAILABLE\n",
      "-----------------------------\n",
      "Trade with trade_id: 1235\n",
      "- trade type: IRS\n",
      "- asset class: IR\n",
      "- trade currency: USD\n",
      "- trade underlyings: ['USD_LIBOR_3M_CURVE', 'USD_ZERO_YIELD_CURVE']\n",
      "- trade attributes keys: ['notional', 'currency', 'floating_rate', 'K', 'payer/receiver', 'first_fixing_date', 'last_fixing_date', 'first_payment_date', 'last_payment_date', 'payments_frequency', 'maturity', 'fixings_schedule', 'payments_schedule'])\n",
      "- with 61 valuation points.\n",
      "AVAILABLE\n",
      "-----------------------------\n",
      "Trade with trade_id: 1236\n",
      "- trade type: IRS\n",
      "- asset class: IR\n",
      "- trade currency: USD\n",
      "- trade underlyings: ['USD_LIBOR_3M_CURVE', 'USD_ZERO_YIELD_CURVE']\n",
      "- trade attributes keys: ['notional', 'currency', 'floating_rate', 'K', 'payer/receiver', 'first_fixing_date', 'last_fixing_date', 'first_payment_date', 'last_payment_date', 'payments_frequency', 'maturity', 'fixings_schedule', 'payments_schedule'])\n",
      "- with 61 valuation points.\n",
      "AVAILABLE\n",
      "-----------------------------\n"
     ]
    }
   ],
   "source": [
    "print(test_portfolio_1.trade_inventory)\n",
    "print('-----------------------------')\n",
    "for _, trade in test_portfolio_1.trade_inventory.items():\n",
    "    print(trade)\n",
    "    print('-----------------------------')"
   ]
  },
  {
   "cell_type": "markdown",
   "id": "b5720c14-c014-4b26-b962-1fe8d1224d04",
   "metadata": {},
   "source": [
    "1) Check collateral agreements"
   ]
  },
  {
   "cell_type": "code",
   "execution_count": 4,
   "id": "c89b0335-5a85-46d0-b1ff-94dea4928337",
   "metadata": {},
   "outputs": [
    {
     "name": "stdout",
     "output_type": "stream",
     "text": [
      "-----------------------------\n",
      "{'VM_1': {'trade_ids': [1234, 1235], 'contractual_terms':   WE_POST_P WE_RECEIVE_R  T_P  T_R  MTA_P  MTA_R\n",
      "0       YES          YES    2  1.5    0.5    0.3}}\n",
      "-----------------------------\n"
     ]
    }
   ],
   "source": [
    "print('-----------------------------')\n",
    "print(test_portfolio_1.vm_collateral_agreements)\n",
    "print('-----------------------------')"
   ]
  },
  {
   "cell_type": "markdown",
   "id": "648e2093-af0a-46a9-bc24-41beb93bb955",
   "metadata": {
    "tags": []
   },
   "source": [
    "# Trade valuation (IRS)"
   ]
  },
  {
   "cell_type": "markdown",
   "id": "d200241c-63eb-4d8c-b5ec-f63ef77c7f13",
   "metadata": {},
   "source": [
    "1) Construct a IRS trade with child class InterestRateSwap from trade_id\n",
    "2) Load the trade"
   ]
  },
  {
   "cell_type": "code",
   "execution_count": 5,
   "id": "cd0b6062-ae7d-49c4-ac19-b9862ec4a4ee",
   "metadata": {
    "tags": []
   },
   "outputs": [
    {
     "name": "stdout",
     "output_type": "stream",
     "text": [
      "-----------------------------\n",
      "Trade with trade_id: 1234\n",
      "- trade type: IRS\n",
      "- asset class: IR\n",
      "- trade currency: USD\n",
      "- trade underlyings: ['USD_LIBOR_3M_CURVE', 'USD_ZERO_YIELD_CURVE']\n",
      "- trade attributes keys: ['notional', 'currency', 'floating_rate', 'K', 'payer/receiver', 'first_fixing_date', 'last_fixing_date', 'first_payment_date', 'last_payment_date', 'payments_frequency', 'maturity', 'fixings_schedule', 'payments_schedule'])\n",
      "- with 41 valuation points.\n",
      "AVAILABLE\n",
      "-----------------------------\n"
     ]
    }
   ],
   "source": [
    "trade_id = 1234\n",
    "risk_factors = pd.read_csv(global_parameters['prototype_data_paths']['RFs_attributes'] + global_parameters['prototype_data_files']['RFs_attributes']['all_RFs_mapping'])\n",
    "trade = InterestRateSwap(trade_id)\n",
    "trade.load(global_parameters, risk_factors)\n",
    "print('-----------------------------')\n",
    "print(trade)\n",
    "print('-----------------------------')"
   ]
  },
  {
   "cell_type": "markdown",
   "id": "9374d0b0-1d71-4424-82f8-dc8dcc971ff8",
   "metadata": {},
   "source": [
    "1) Construct an IRS pricer with child class InterestRateSwapPricer\n",
    "2) Create the risk_factor_objects with class MarketDataBuilder (Notice that we do not calibrate the RFE models but we still need to know which are simulated and which are not)\n",
    "3) Identify the dependencies for the pricer"
   ]
  },
  {
   "cell_type": "code",
   "execution_count": 6,
   "id": "f03a4ae2-235d-4a32-aa69-f1a1297c7ce0",
   "metadata": {
    "tags": []
   },
   "outputs": [
    {
     "name": "stdout",
     "output_type": "stream",
     "text": [
      "-----------------------------\n",
      "{'USD_ZERO_YIELD_CURVE': RiskFactor(name='USD_ZERO_YIELD_CURVE', asset_class='IR', asset_type='DISCOUNT_CURVE', currency='USD', simulated=True, model=<pimpa.scenario_generation.hw1f.HW1F object at 0x7fb6084a0550>, model_name='HW1F', reference=None), 'USD_LIBOR_3M_CURVE': RiskFactor(name='USD_LIBOR_3M_CURVE', asset_class='IR', asset_type='SPREAD_TO_DISCOUNT_CURVE', currency='USD', simulated=False, model=None, model_name='NOT_AVAILABLE', reference='USD_ZERO_YIELD_CURVE')}\n",
      "-----------------------------\n",
      "{('Pricing_HW1F_calibration', 'USD_ZERO_YIELD_CURVE'), ('spread_to_discount_curve', 'USD_LIBOR_3M_CURVE'), ('historical_fixings', 'USD_ZERO_YIELD_CURVE'), ('historical_fixings', 'USD_LIBOR_3M_CURVE')}\n",
      "-----------------------------\n"
     ]
    }
   ],
   "source": [
    "pricer = InterestRateSwapPricer('IRS_Pricer')\n",
    "risk_factor_objects = MarketDataBuilder().get_risk_factors(trade.trade_underlyings, global_parameters)\n",
    "print('-----------------------------')\n",
    "print(risk_factor_objects)\n",
    "print('-----------------------------')\n",
    "pricer_dependencies = pricer.get_market_dependencies(trade.trade_underlyings, risk_factor_objects,calibration_parameters)\n",
    "print(pricer_dependencies)\n",
    "print('-----------------------------')"
   ]
  },
  {
   "cell_type": "markdown",
   "id": "5564ebf7-651e-4b9e-8ac0-8da59f5a332b",
   "metadata": {},
   "source": [
    "1) Source market data based on pricer dependencies and using the folders/files pointers in global_parameters (notice that we skipped RFE models dependencies since we do not use them here)\n",
    "2) Calibrate the pricer "
   ]
  },
  {
   "cell_type": "code",
   "execution_count": 7,
   "id": "49e06880-fe27-49c8-b066-b4c38ef8f9f7",
   "metadata": {},
   "outputs": [
    {
     "name": "stdout",
     "output_type": "stream",
     "text": [
      "-----------------------------\n",
      "{'Pricing_HW1F_calibration': {'USD_ZERO_YIELD_CURVE': {'alpha': 0.05, 'volatility': 0.01, 'rate_curve': <pimpa.market_data_objects.curve.Curve object at 0x7fb61260af10>}}, 'spread_to_discount_curve': {'USD_LIBOR_3M_CURVE': <pimpa.market_data_objects.curve.Curve object at 0x7fb6084a0310>}, 'historical_fixings': {'USD_ZERO_YIELD_CURVE': 2020-01-01    0.01\n",
      "2019-12-31    0.02\n",
      "2019-12-30    0.02\n",
      "2019-12-29    0.02\n",
      "2019-12-28    0.02\n",
      "              ... \n",
      "2018-12-18    0.02\n",
      "2018-12-17    0.02\n",
      "2018-12-16    0.02\n",
      "2018-12-15    0.02\n",
      "2018-12-14    0.02\n",
      "Name: USD_ZERO_YIELD_CURVE, Length: 384, dtype: float64, 'USD_LIBOR_3M_CURVE': 2020-01-01    0.002\n",
      "2019-12-31    0.002\n",
      "2019-12-30    0.002\n",
      "2019-12-29    0.002\n",
      "2019-12-28    0.002\n",
      "              ...  \n",
      "2018-12-18    0.002\n",
      "2018-12-17    0.002\n",
      "2018-12-16    0.002\n",
      "2018-12-15    0.002\n",
      "2018-12-14    0.002\n",
      "Name: USD_LIBOR_3M_CURVE, Length: 384, dtype: float64}}\n",
      "-----------------------------\n",
      "<pimpa.pricing_models.interest_rate_swap_pricer.InterestRateSwapPricer object at 0x7fb6084a0490>\n",
      "-----------------------------\n"
     ]
    }
   ],
   "source": [
    "market_data = MarketDataBuilder().load_market_data(pricer_dependencies, global_parameters)\n",
    "print('-----------------------------')\n",
    "print(market_data)\n",
    "print('-----------------------------')\n",
    "pricer.calibrate(market_data, calibration_parameters)\n",
    "print(pricer)\n",
    "print('-----------------------------')"
   ]
  },
  {
   "cell_type": "markdown",
   "id": "f430dbc5-5639-4542-b910-6cb6d3ea89a4",
   "metadata": {},
   "source": [
    "1) Generate a fictious valuation grid\n",
    "2) Generate fictious scenarios for the only simulated RF ('USD_ZERO_YIELD_CURVE')\n",
    "3) Use the IRS pricer object to value the fictious scenarios "
   ]
  },
  {
   "cell_type": "code",
   "execution_count": 8,
   "id": "e5ed78e8-2b75-4952-af16-5ea6ee4b0a15",
   "metadata": {},
   "outputs": [],
   "source": [
    "starting_date = '2020-01-01'\n",
    "final_date = '2040-01-01'\n",
    "valuation_frequency = 'monthly'\n",
    "nr_paths = 1000\n",
    "global_parameters['n_paths'] = nr_paths\n",
    "valuation_dates = generate_simulation_dates_schedule(starting_date, final_date, valuation_frequency, global_parameters)\n",
    "scenarios = {'USD_ZERO_YIELD_CURVE': np.random.normal(loc=0.01, scale=0.005, size=(nr_paths, len(valuation_dates)))}\n",
    "\n",
    "trade_mtms = pricer.price_single_trade(trade, valuation_dates, scenarios, market_data, global_parameters)"
   ]
  },
  {
   "cell_type": "markdown",
   "id": "febcbd63-4e8f-4810-b862-47a30a31a7de",
   "metadata": {
    "tags": []
   },
   "source": [
    "# Trade valuation (EUR EQ OPT)"
   ]
  },
  {
   "cell_type": "markdown",
   "id": "5ea4a68a-61a3-41d4-82ff-b78f4e972fe2",
   "metadata": {},
   "source": [
    "1) Construct a EUR EQ OPT trade with child class EquityEuropeanOption from trade_id\n",
    "2) Load the trade"
   ]
  },
  {
   "cell_type": "code",
   "execution_count": 9,
   "id": "05ae84e5-522d-41a9-926e-b267918b7b4c",
   "metadata": {},
   "outputs": [
    {
     "name": "stdout",
     "output_type": "stream",
     "text": [
      "Trade with trade_id: 2345\n",
      "- trade type: EQ_EUR_OPT\n",
      "- asset class: EQ\n",
      "- trade currency: USD\n",
      "- trade underlyings: ['CREDIT_SUISSE_SHARE', 'USD_ZERO_YIELD_CURVE', 'CREDIT_SUISSE_IMPLIED_VOLATILITY_SURFACE']\n",
      "- trade attributes keys: ['notional', 'currency', 'underlying', 'K', 'put/call', 'long/short', 'maturity'])\n",
      "- with 0 valuation points.\n",
      "AVAILABLE\n"
     ]
    }
   ],
   "source": [
    "trade_id = 2345\n",
    "risk_factors = pd.read_csv(global_parameters['prototype_data_paths']['RFs_attributes'] + global_parameters['prototype_data_files']['RFs_attributes']['all_RFs_mapping'])\n",
    "trade = EquityEuropeanOption(trade_id)\n",
    "trade.load(global_parameters, risk_factors)\n",
    "\n",
    "print(trade)"
   ]
  },
  {
   "cell_type": "markdown",
   "id": "0e2219e8-e30b-4cad-89a5-1c9ea990acbe",
   "metadata": {},
   "source": [
    "1) Construct an EQ_EUR_OPT pricer with child class EquityEuropeanOptionPricer\n",
    "2) Create the risk_factor_objects with class MarketDataBuilder (Notice that we do not calibrate the RFE models but we still need to know which are simulated and which are not)\n",
    "3) Identify the dependencies for the pricer"
   ]
  },
  {
   "cell_type": "code",
   "execution_count": 10,
   "id": "cfc0c54c-391d-422e-88c2-82fda1a799ff",
   "metadata": {},
   "outputs": [
    {
     "name": "stdout",
     "output_type": "stream",
     "text": [
      "{('Pricing_HW1F_calibration', 'USD_ZERO_YIELD_CURVE'), ('historical_fixings', 'USD_ZERO_YIELD_CURVE'), ('equity_implied_volatility_surface', 'CREDIT_SUISSE_IMPLIED_VOLATILITY_SURFACE')}\n"
     ]
    }
   ],
   "source": [
    "pricer = EquityEuropeanOptionPricer('EQ_EUR_OPT_Pricer')\n",
    "risk_factor_objects = MarketDataBuilder().get_risk_factors(trade.trade_underlyings, global_parameters)\n",
    "pricer_dependencies = pricer.get_market_dependencies(trade.trade_underlyings, risk_factor_objects,calibration_parameters)\n",
    "print(pricer_dependencies)"
   ]
  },
  {
   "cell_type": "markdown",
   "id": "a4ba3771-7d4e-4edf-912f-503aaa97321a",
   "metadata": {},
   "source": [
    "1) Source market data based on pricer dependencies and using the folders/files pointers in global_parameters (notice that we skipped RFE models dependencies since we do not use them here)\n",
    "2) Calibrate the pricer "
   ]
  },
  {
   "cell_type": "code",
   "execution_count": 11,
   "id": "09eeee17-1692-4501-8f74-1f677e9e5cbd",
   "metadata": {},
   "outputs": [
    {
     "name": "stdout",
     "output_type": "stream",
     "text": [
      "<pimpa.pricing_models.equity_european_option_pricer.EquityEuropeanOptionPricer object at 0x7fb6084ce250>\n"
     ]
    }
   ],
   "source": [
    "market_data = MarketDataBuilder().load_market_data(pricer_dependencies, global_parameters)\n",
    "pricer.calibrate(market_data, calibration_parameters)\n",
    "\n",
    "print(pricer)"
   ]
  },
  {
   "cell_type": "markdown",
   "id": "3d5f81d2-0967-47f3-8799-e494bfdd2354",
   "metadata": {},
   "source": [
    "1) Generate a fictious valuation grid\n",
    "2) Generate fictious scenarios for the simulated RFs ('USD_ZERO_YIELD_CURVE' and 'CREDIT_SUISSE_SHARE')\n",
    "3) Use the EQ_EUR_OPT pricer object to value the fictious scenarios "
   ]
  },
  {
   "cell_type": "code",
   "execution_count": 12,
   "id": "af35c292-6bd1-431e-86f2-61fb2dc75d7c",
   "metadata": {},
   "outputs": [
    {
     "name": "stdout",
     "output_type": "stream",
     "text": [
      "-----------------------------\n",
      "{'USD_ZERO_YIELD_CURVE': array([[0.01472774, 0.0073373 , 0.01081822, ..., 0.01147231, 0.00859376,\n",
      "        0.01015637],\n",
      "       [0.00932633, 0.00995652, 0.00617551, ..., 0.005065  , 0.00179165,\n",
      "        0.00449957],\n",
      "       [0.01569924, 0.01753808, 0.01647014, ..., 0.00764985, 0.0068205 ,\n",
      "        0.01649578],\n",
      "       ...,\n",
      "       [0.01118131, 0.00160661, 0.00461421, ..., 0.00665567, 0.00557066,\n",
      "        0.00692752],\n",
      "       [0.01078097, 0.00976527, 0.00783458, ..., 0.00623163, 0.00771967,\n",
      "        0.00353352],\n",
      "       [0.00419302, 0.01136222, 0.00872512, ..., 0.00113122, 0.00959767,\n",
      "        0.00793998]]), 'CREDIT_SUISSE_SHARE': array([[24.93314507, 11.16434884, 11.71651252, ...,  7.82638628,\n",
      "        11.80762493, 15.85938225],\n",
      "       [12.87602661,  8.39039552, 13.051736  , ..., 13.01644803,\n",
      "        18.40240698,  9.33036047],\n",
      "       [28.02633286,  6.05766272,  8.50370805, ..., 14.9591227 ,\n",
      "         6.53176858,  5.9431219 ],\n",
      "       ...,\n",
      "       [ 5.44828374,  9.33100031,  8.64274706, ..., 16.15378374,\n",
      "        10.71439032,  7.87626212],\n",
      "       [ 9.4935169 ,  9.61586314, 12.00397941, ...,  6.03430548,\n",
      "        18.85465303,  9.87401609],\n",
      "       [ 8.66973438, 21.43937413, 19.03506202, ..., 17.69480601,\n",
      "        19.26152304, 10.99467083]])}\n",
      "-----------------------------\n",
      "[[208.53019269 473.00694585 397.66034154 ...   0.           0.\n",
      "    0.        ]\n",
      " [481.77364489 620.17411063 350.11263372 ...   0.           0.\n",
      "    0.        ]\n",
      " [172.69781114 760.66157276 565.46348323 ...   0.           0.\n",
      "    0.        ]\n",
      " ...\n",
      " [861.94504484 589.99063775 595.2721099  ...   0.           0.\n",
      "    0.        ]\n",
      " [619.15776279 546.72974199 392.14235055 ...   0.           0.\n",
      "    0.        ]\n",
      " [683.83446865 168.05512359 169.32055116 ...   0.           0.\n",
      "    0.        ]]\n",
      "-----------------------------\n"
     ]
    }
   ],
   "source": [
    "starting_date = '2017-01-01'\n",
    "final_date = '2022-01-01'\n",
    "valuation_frequency = 'monthly'\n",
    "nr_paths = 1000\n",
    "global_parameters['n_paths'] = nr_paths\n",
    "valuation_dates = generate_simulation_dates_schedule(starting_date, final_date, valuation_frequency, global_parameters)\n",
    "scenarios = {'USD_ZERO_YIELD_CURVE': np.random.normal(loc=0.01, scale=0.005, size=(nr_paths, len(valuation_dates))), \\\n",
    "            'CREDIT_SUISSE_SHARE':10*np.random.lognormal(mean=0.0, sigma=0.4, size=(nr_paths, len(valuation_dates)))}\n",
    "trade_mtms = pricer.price_single_trade(trade, valuation_dates, scenarios, market_data, global_parameters)\n",
    "print('-----------------------------')\n",
    "print(scenarios)\n",
    "print('-----------------------------')\n",
    "print(trade_mtms)\n",
    "print('-----------------------------')"
   ]
  },
  {
   "cell_type": "code",
   "execution_count": null,
   "id": "0dc71085-cf56-407b-b4c0-a39b3b4f0e45",
   "metadata": {},
   "outputs": [],
   "source": []
  },
  {
   "cell_type": "code",
   "execution_count": null,
   "id": "056da8a6-6007-4c88-9ed3-52af75b1cc41",
   "metadata": {},
   "outputs": [],
   "source": []
  }
 ],
 "metadata": {
  "kernelspec": {
   "display_name": "base",
   "language": "python",
   "name": "python3"
  },
  "language_info": {
   "codemirror_mode": {
    "name": "ipython",
    "version": 3
   },
   "file_extension": ".py",
   "mimetype": "text/x-python",
   "name": "python",
   "nbconvert_exporter": "python",
   "pygments_lexer": "ipython3",
   "version": "3.8.8"
  }
 },
 "nbformat": 4,
 "nbformat_minor": 5
}
